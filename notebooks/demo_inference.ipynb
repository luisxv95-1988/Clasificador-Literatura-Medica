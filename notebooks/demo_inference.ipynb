{
 "cells": [
  {"cell_type": "markdown", "metadata": {}, "source": ["# Demo de inferencia del clasificador"]}
 ],
 "metadata": {},
 "nbformat": 4, "nbformat_minor": 2
}